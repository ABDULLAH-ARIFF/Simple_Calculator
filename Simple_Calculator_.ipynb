{
  "nbformat": 4,
  "nbformat_minor": 0,
  "metadata": {
    "colab": {
      "provenance": [],
      "authorship_tag": "ABX9TyN6qB84TkIKbuZHJ+D/mL+J",
      "include_colab_link": true
    },
    "kernelspec": {
      "name": "python3",
      "display_name": "Python 3"
    },
    "language_info": {
      "name": "python"
    }
  },
  "cells": [
    {
      "cell_type": "markdown",
      "metadata": {
        "id": "view-in-github",
        "colab_type": "text"
      },
      "source": [
        "<a href=\"https://colab.research.google.com/github/ABDULLAH-ARIFF/Simple_Calculator/blob/main/Simple_Calculator_.ipynb\" target=\"_parent\"><img src=\"https://colab.research.google.com/assets/colab-badge.svg\" alt=\"Open In Colab\"/></a>"
      ]
    },
    {
      "cell_type": "code",
      "execution_count": null,
      "metadata": {
        "id": "n6zCkmiqdRiA",
        "colab": {
          "base_uri": "https://localhost:8080/"
        },
        "outputId": "bb3821b4-f64d-445e-b710-3c8f0b828405"
      },
      "outputs": [
        {
          "output_type": "stream",
          "name": "stdout",
          "text": [
            "Enter first numbers: 24\n",
            "Enter a operator: *\n",
            "Enter second numbers: 2\n",
            "You put 24 * 2 your answer is  48 ✨\n"
          ]
        }
      ],
      "source": [
        "# Simple_Calculator\n",
        "# Using if , elif and else conditions\n",
        "\n",
        "\n",
        "# num_1 variable taking the first numbers as input from User\n",
        "num_1 = int(input(\"Enter first numbers: \"))\n",
        "\n",
        "# operator variable taking single operator as input from User\n",
        "operator = input(\"Enter a operator: \")\n",
        "\n",
        "# num_2 variable taking the second numbers as input from User\n",
        "num_2 = int(input(\"Enter second numbers: \"))\n",
        "\n",
        "# check if user has enter addition \"+\" operator\n",
        "if operator == \"+\" :\n",
        "# printing num_1 , opeartor and num_2 with some text with a emoji then adding two varaibles num_1 and num_2\n",
        " print(f\"You put {num_1} {operator} {num_2} your answer is \",num_1 + num_2 , \"😊\")\n",
        "\n",
        "# check if user has enter division \"/\" operator\n",
        "elif operator == \"/\" :\n",
        "# printing num_1 , opeartor and num_2 with some text with a emoji then divide two varaibles num_1 and num_2\n",
        " print(f\"You put {num_1} {operator} {num_2} your answer is \", num_1 / num_2 , \"💡\")\n",
        "\n",
        "# check if user has enter multiplication \"*\" operator\n",
        "elif operator == \"*\" :\n",
        "# printing num_1 , opeartor and num_2 with some text with a emoji then multiply two varaibles num_1 and num_2\n",
        "  print(f\"You put {num_1} {operator} {num_2} your answer is \" ,num_1 * num_2 , \"✨\")\n",
        "\n",
        "# check if user has enter subtract \"-\" operator\n",
        "elif operator == \"-\" :\n",
        "# printing num_1 , opeartor and num_2 with some text with a emoji then subtract two varaibles num_1 and num_2\n",
        " print(f\"You put {num_1} {operator} {num_2} your answer is \" , num_1 - num_2 ,\"💙\")\n",
        "\n",
        "# Check if the user has entered the equality operator ('=') and the two numbers are the same\n",
        "elif operator == \"=\" and num_1 == num_2 :\n",
        "# If both numbers are equal, display \"Equal\" with a checkmark emoji ✅\n",
        " print(\"Equal \\U00002705\")\n",
        "\n",
        "# Check if the user entered the equality operator ('=') but the numbers are not the same\n",
        "elif operator == \"=\" or num_1 == num_2 :\n",
        "# If numbers are different then output \"Not equal\" with stop sign ⛔\n",
        "  print(\"Not equal \\u26D4\")\n",
        "\n",
        "# If none of the above conditions match it means the user entered an invalid operator\n",
        "else :\n",
        "# Display an error message indicating invalid input with a cross mark ❌\n",
        "  print(\"Your input is invalid \\u274C\")"
      ]
    }
  ]
}